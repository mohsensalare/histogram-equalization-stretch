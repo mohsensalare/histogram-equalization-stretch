{
 "cells": [
  {
   "cell_type": "code",
   "execution_count": null,
   "id": "6aa02105",
   "metadata": {},
   "outputs": [
    {
     "data": {
      "image/png": "[encoded data removed]",
      "text/plain": [
       "<Figure size 432x288 with 1 Axes>"
      ]
     },
     "metadata": {
      "needs_background": "light"
     },
     "output_type": "display_data"
    }
   ],
   "source": [
    "import cv2\n",
    "import numpy as np\n",
    "from matplotlib import pyplot as plt\n",
    "    \n",
    "# Read the image\n",
    "img1 = cv2.imread('images/minmax2.jpeg',0)\n",
    "plt.hist(img1.ravel(),256,[0,256])\n",
    "plt.show()\n",
    "# Create zeros array to store the stretched image\n",
    "minmax_img = np.zeros((img1.shape[0],img1.shape[1]),dtype = 'uint8')\n",
    " \n",
    "# Loop over the image and apply Min-Max formulae\n",
    "for i in range(img1.shape[0]):\n",
    "    for j in range(img1.shape[1]):\n",
    "        minmax_img[i,j] = 255*(img1[i,j]-np.min(img1))/(np.max(img1)-np.min(img1))\n",
    " \n",
    "# Displat the stretched image\n",
    "cv2.imshow('Minmax',minmax_img)\n",
    "plt.hist(minmax_img.ravel(),256,[0,256])\n",
    "plt.show()\n",
    "cv2.waitKey(0)"
   ]
  }
 ],
 "metadata": {
  "kernelspec": {
   "display_name": "Python 3 (ipykernel)",
   "language": "python",
   "name": "python3"
  },
  "language_info": {
   "codemirror_mode": {
    "name": "ipython",
    "version": 3
   },
   "file_extension": ".py",
   "mimetype": "text/x-python",
   "name": "python",
   "nbconvert_exporter": "python",
   "pygments_lexer": "ipython3",
   "version": "3.9.5"
  }
 },
 "nbformat": 4,
 "nbformat_minor": 5
}
